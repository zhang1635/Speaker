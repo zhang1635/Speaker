{
 "cells": [
  {
   "cell_type": "markdown",
   "metadata": {},
   "source": [
    "**实验目标：**\n",
    "\n",
    "通过本实验，你将深入了解和实践说话人识别技术，并掌握利用声音特征进行有效说话人识别的基本方法，了解不同特征和模型对识别准确率的影响。\n",
    "\n",
    "实验的核心目标是使用TIMIT数据集来训练一个说话人识别系统，涵盖数据预处理、特征提取、模型训练和评估等关键步骤。\n",
    "\n",
    "\n",
    "**实验方法：**\n",
    "\n",
    "**1. 数据预处理和划分(可选)：**\n",
    "  - 为了方便大家，我们提供了划分好的TIMIT数据集结构，当然你也可以根据训练结果自行划分该原数据集。\n",
    "  - 原数据集下载地址：https://drive.google.com/file/d/180mSIiXN9RVDV2Xn1xcWNkMRm5J5MjN4/view?usp=sharing\n",
    "  - 我们排除了SA的两个方言句子，并在剩余的8个句子中选取了SX的5个句子和SI的1个句子作为训练集，SI的另外2个句子作为测试集。\n",
    "  \n",
    "**2. 特征提取：**\n",
    "  - 学习并实现包括但不限于MFCC特征等特征的提取，探索声音信号的频率和时间特性。\n",
    "  - 鼓励尝试和比较其他特征提取方法，例如LPCC或声谱图特征，以理解不同特征对识别性能的影响。\n",
    "  \n",
    "**3. 模型选择和训练：**\n",
    "  - 探索并选择适合的分类器和模型进行说话人识别，如GMM、Softmax分类器或深度学习模型。\n",
    "  - 实现模型训练流程，使用训练集数据训练模型。\n",
    "  \n",
    "**4. 评估和分析：**\n",
    "  - 使用准确率作为主要的评价指标在测试集上评估模型性能。\n",
    "  - 对比不同特征和模型的性能，分析其对说话人识别准确率的影响。\n",
    "  - 可视化不同模型的识别结果和错误率，讨论可能的改进方法。\n",
    "\n",
    "**实验要求：**\n",
    "  - 1.选择并实现至少一种特征的提取，并鼓励尝试其他特征提取方法。\n",
    "  - 2.选择并实现至少一种分类器或模型进行说话人识别，并使用准确率评估指标评估其性能。\n",
    "  - 3.通过实验对比、分析和可视化，撰写详细的实验报告，包括实验目的、实验方法、结果分析和结论。\n",
    "  - 4.实验报告应以清晰、逻辑性强的形式呈现，图表和结果应清楚明了。"
   ]
  },
  {
   "cell_type": "markdown",
   "metadata": {},
   "source": [
    "## 1. 实验准备"
   ]
  },
  {
   "cell_type": "code",
   "execution_count": 1,
   "metadata": {},
   "outputs": [
    {
     "name": "stderr",
     "output_type": "stream",
     "text": [
      "C:\\Users\\COOL\\Anaconda3\\envs\\gluon\\lib\\site-packages\\paramiko\\transport.py:32: CryptographyDeprecationWarning: Python 3.6 is no longer supported by the Python core team. Therefore, support for it is deprecated in cryptography. The next release of cryptography will remove support for Python 3.6.\n",
      "  from cryptography.hazmat.backends import default_backend\n"
     ]
    }
   ],
   "source": [
    "## 导入必要的库\n",
    "import numpy as np\n",
    "import pandas as pd\n",
    "import matplotlib.pyplot as plt\n",
    "from sklearn.metrics import accuracy_score\n",
    "\n",
    "# 可以根据需要导入其他库，比如librosa用于音频处理\n",
    "import librosa\n",
    "import librosa.display\n",
    "import os\n",
    "from sklearn import svm\n",
    "from sklearn.preprocessing import StandardScaler\n",
    "from sklearn.model_selection import train_test_split\n",
    "from sklearn.metrics import classification_report, accuracy_score"
   ]
  },
  {
   "cell_type": "markdown",
   "metadata": {},
   "source": [
    "## 2. 数据预处理(加载数据集)"
   ]
  },
  {
   "cell_type": "code",
   "execution_count": 4,
   "metadata": {},
   "outputs": [],
   "source": [
    "TrainDir = \"E2/Dataset/TRAIN\"\n",
    "TestDir = \"E2/Dataset/TEST\"\n",
    "## 请在这里写代码加载我们划分好的TIMIT训练集和测试集\n",
    "\n",
    "# 预处理和特征提取参数\n",
    "n_mfcc = 13\n",
    "frame_length = 0.025  # 帧长25ms\n",
    "frame_stride = 0.01  #帧移10ms\n",
    "\n",
    "def extract_mfcc(audio_path, n_mfcc, frame_length, frame_stride):\n",
    "    # 加载音频文件\n",
    "    signal, sample_rate = librosa.load(audio_path, sr=None)\n",
    "\n",
    "    # 可以添加更多预处理步骤，如静音移除、预加重等\n",
    "\n",
    "    # 计算 MFCC 特征\n",
    "    mfccs = librosa.feature.mfcc(y=signal, sr=sample_rate, n_mfcc=n_mfcc,\n",
    "                                 n_fft=int(sample_rate * frame_length),\n",
    "                                 hop_length=int(sample_rate * frame_stride))\n",
    "    return mfccs.T  # 转置是为了将时间维度置于第一维"
   ]
  },
  {
   "cell_type": "markdown",
   "metadata": {},
   "source": [
    "**调用的librosa.feature.mfcc理解：**  \n",
    "1. 参数：y是音频信号，sr是采样率，n_mfcc制定了mfcc制定了要提取的MFCC系数的数量，n_fft指定了FFT窗口大小（通过采样率和帧长度计算得到），hop_length指定了帧之间的步长（同样基于采样率和帧长度计算得到）；  \n",
    "\n",
    "2. 提取出的MFCC数据含义：第一个系数代表整个帧的能量，余下系数代表音频信号的频谱细节，但通过梅尔滤波器组和DCT，它们被转换成了梅尔频率上的倒谱（用于分离信号中的周期性结构{如说话人的声道特征}和非周期信号{噪声}，FT、对数运算、IFT）表示；  \n",
    "\n",
    "3. librosa.feature.mfcc实现思路：  \n",
    "    (1) 预加重：高通滤波音频信号，增强高频成分；  \n",
    "    (2) 窗口化：将音频信号分割成短时帧；  \n",
    "    (3) FFT：对每一帧信号进行FFT，得到频谱；  \n",
    "    (4) 梅尔滤波器组：应用一组梅尔刻度滤波器（通常是三角滤波器）到功率谱上，以模拟人耳感知；  \n",
    "    (5) 取对数：取每个梅尔滤波器输出功率的对数；  \n",
    "    (6) 离散余弦变换（DCT）：对取对数后的梅尔频谱进行DCT得到MFCC。"
   ]
  },
  {
   "cell_type": "markdown",
   "metadata": {},
   "source": [
    "## 3. 特征提取"
   ]
  },
  {
   "cell_type": "code",
   "execution_count": 68,
   "metadata": {},
   "outputs": [
    {
     "name": "stdout",
     "output_type": "stream",
     "text": [
      "2772 262 13\n",
      "924 439 13\n"
     ]
    },
    {
     "data": {
      "image/png": "[encoded data removed]",
      "text/plain": [
       "<Figure size 720x288 with 2 Axes>"
      ]
     },
     "metadata": {
      "needs_background": "light"
     },
     "output_type": "display_data"
    }
   ],
   "source": [
    "## 请编写或使用库函数提取MFCC等音频特征\n",
    "# 数据预处理并进行特征提取\n",
    "def preprocess(root_dir):\n",
    "    features = []\n",
    "    labels = []\n",
    "    speaker_ide = -1\n",
    "    # 遍历方言地区\n",
    "    for region_id in os.listdir(root_dir):\n",
    "        region_path = os.path.join(root_dir, region_id)\n",
    "\n",
    "        # 遍历说话人\n",
    "        for speaker_id in os.listdir(region_path):\n",
    "            speaker_path = os.path.join(region_path, speaker_id)\n",
    "            speaker_ide += 1\n",
    "            # 遍历说话人的音频文件\n",
    "            for audio_file in os.listdir(speaker_path):\n",
    "                if audio_file.startswith('SX') or audio_file.startswith('SI'):\n",
    "                    # 提取音频特征\n",
    "                    mfccs = extract_mfcc(os.path.join(speaker_path, audio_file), n_mfcc, frame_length, frame_stride)\n",
    "                    features.append(mfccs)\n",
    "                    labels.append(speaker_ide)\n",
    "    print(len(features),len(features[10]),len(features[0][0]))\n",
    "    return features, labels\n",
    "\n",
    "# mfcc可视化\n",
    "def visualize_mfcc(mfccs):\n",
    "    plt.figure(figsize=(10, 4))\n",
    "    librosa.display.specshow(mfccs, x_axis='time')\n",
    "    plt.colorbar()\n",
    "    plt.title('MFCC')\n",
    "    plt.tight_layout()\n",
    "    plt.show()\n",
    "\n",
    "\n",
    "train_features, train_labels = preprocess(TrainDir)\n",
    "test_features, test_labels = preprocess(TestDir)\n",
    "\n",
    "for mfcc_features in train_features:\n",
    "    visualize_mfcc(mfcc_features)\n",
    "    break  # 只展示一个"
   ]
  },
  {
   "cell_type": "markdown",
   "metadata": {},
   "source": [
    "**可视化图表含义：**  \n",
    "1. 看第一个系数（最下面那行），显示了音频信号的能量变化，这在某种情况下反映了说话的节奏和强度；  \n",
    "\n",
    "2. 剩余的系数（从底部往上数），反映了信号在梅尔频率上的特性：较低的系数（比如第2个、第3个）捕捉到的是更基本的频率信息，而较高的系数则涉及更复杂的频率形状和变化；  \n",
    "\n",
    "3. 横轴表示事件变化；  \n",
    "\n",
    "4. 色彩上，蓝色表示特定频率成分较弱，红色较强。  \n"
   ]
  },
  {
   "cell_type": "code",
   "execution_count": 77,
   "metadata": {},
   "outputs": [
    {
     "name": "stdout",
     "output_type": "stream",
     "text": [
      "Train features shape: (2772, 10127)\n",
      "Test features shape: (924, 10127)\n"
     ]
    }
   ],
   "source": [
    "## 特征标准化: 确保所有的特征均为1D arrays，并保证长度为max_length\n",
    "def pad_features(features, max_length):\n",
    "    padded_features = []\n",
    "    for f in features:\n",
    "        if isinstance(f, np.ndarray) and f.ndim == 1:  # Ensuring f is a 1D numpy array\n",
    "            if len(f) < max_length:\n",
    "                # Padding\n",
    "                padded = np.pad(f, (0, max_length - len(f)), mode='constant', constant_values=0)\n",
    "            else:\n",
    "                # Truncating if necessary\n",
    "                padded = f[:max_length]\n",
    "            padded_features.append(padded)\n",
    "        else:\n",
    "            print(\"Skipping invalid feature\")\n",
    "    return np.stack(padded_features)  # Ensuring to return a proper 2D array\n",
    "\n",
    "# Converting features to numpy arrays and ensuring they are 1D\n",
    "train_features = [np.array(f).flatten() if isinstance(f, np.ndarray) else np.array([]) for f in train_features]\n",
    "test_features = [np.array(f).flatten() if isinstance(f, np.ndarray) else np.array([]) for f in test_features]\n",
    "\n",
    "# Finding maximum length\n",
    "max_length = max(max([len(f) for f in train_features if isinstance(f, np.ndarray)]),\n",
    "                 max([len(f) for f in test_features if isinstance(f, np.ndarray)]))\n",
    "\n",
    "# Padding features\n",
    "train_features_padded = pad_features(train_features, max_length)\n",
    "test_features_padded = pad_features(test_features, max_length)\n",
    "\n",
    "print(\"Train features shape:\", train_features_padded.shape)\n",
    "print(\"Test features shape:\", test_features_padded.shape)\n",
    "\n",
    "# StandardScaler\n",
    "scaler = StandardScaler()\n",
    "\n",
    "X_train = scaler.fit_transform(train_features_padded)   #2772*779*13\n",
    "X_test = scaler.transform(test_features_padded)         #924*779*13\n",
    "y_train = train_labels\n",
    "y_test = test_labels\n",
    "\n",
    "\n"
   ]
  },
  {
   "cell_type": "markdown",
   "metadata": {},
   "source": [
    "## 4.模型训练"
   ]
  },
  {
   "cell_type": "code",
   "execution_count": null,
   "metadata": {},
   "outputs": [
    {
     "name": "stdout",
     "output_type": "stream",
     "text": [
      "Reshaped tensor shape: (2772, 779, 13)\n"
     ]
    },
    {
     "name": "stderr",
     "output_type": "stream",
     "text": [
      "\r",
      "Training:   0%|                                                                                | 0/300 [00:00<?, ?it/s]"
     ]
    }
   ],
   "source": [
    "import torch\n",
    "import torch.nn as nn\n",
    "import torch.optim as optim\n",
    "from tqdm import tqdm \n",
    "class SpeakerLSTM(nn.Module):\n",
    "    def __init__(self, input_dim, hidden_dim, num_layers, num_classes):\n",
    "        super(SpeakerLSTM, self).__init__()\n",
    "        self.lstm = nn.LSTM(input_dim, hidden_dim, num_layers, batch_first=True)\n",
    "        self.fc = nn.Linear(hidden_dim, num_classes)\n",
    "      #  self.fc1 = nn.Linear(hidden_dim, num_classes)\n",
    "\n",
    "    def forward(self, x):\n",
    "        # x: (batch_size, seq_len, input_dim)\n",
    "        out, _ = self.lstm(x)\n",
    "        # out: (batch_size, seq_len, hidden_dim)\n",
    "        out = out[:, -1, :]  # 取最后一个时间步的输出作为最终输出\n",
    "        out = self.fc(out)\n",
    "        # out: (batch_size, num_classes)\n",
    "        return out\n",
    "\n",
    "# 示例用法\n",
    "input_dim = 13  # MFCC特征维度\n",
    "hidden_dim = 256  # LSTM隐藏层维度\n",
    "num_layers = 2  # LSTM层数\n",
    "num_classes = 462  # 说话人类别数\n",
    "\n",
    "model = SpeakerLSTM(input_dim, hidden_dim, num_layers, num_classes)\n",
    "\n",
    "# 定义交叉熵损失函数\n",
    "criterion = nn.CrossEntropyLoss()\n",
    "\n",
    "\n",
    "# 将原始向量重新组织成一个三维张量\n",
    "# 1. 将原始向量分割成多个子向量，每个子向量包含 13 个元素\n",
    "X_train = np.split(X_train, 779, axis=1)\n",
    "# 2. 将这些子向量按照一定的规律排列成一个大小为 2772x779x13 的张量\n",
    "X_train = np.stack(X_train, axis=1)\n",
    "\n",
    "print(\"Reshaped tensor shape:\", X_train.shape)  # 输出：(2772, 779, 13)\n",
    "\n",
    "batch_size = 22  #22*126=2772\n",
    "input_data = X_train\n",
    "labels = y_train\n",
    "input_data = torch.from_numpy(input_data)\n",
    "labels = torch.tensor(labels)\n",
    "\n",
    "# 定义优化器\n",
    "optimizer = optim.Adam(model.parameters(), lr=0.001)\n",
    "# 定义超参数\n",
    "num_epochs = 300\n",
    "# 使用 tqdm 添加进度条\n",
    "for epoch in tqdm(range(num_epochs), desc=\"Training\"):\n",
    "    # 清零梯度\n",
    "    optimizer.zero_grad()\n",
    "    # 前向传播\n",
    "    outputs = model(input_data)\n",
    "    # 计算损失\n",
    "    loss = criterion(outputs, labels)\n",
    "    # 反向传播\n",
    "    loss.backward()\n",
    "    # 更新参数\n",
    "    optimizer.step()\n",
    "    # 输出当前迭代的损失\n",
    "    tqdm.write(f\"Epoch [{epoch+1}/{num_epochs}], Loss: {loss.item():.4f}\")\n"
   ]
  },
  {
   "cell_type": "code",
   "execution_count": 72,
   "metadata": {},
   "outputs": [
    {
     "name": "stdout",
     "output_type": "stream",
     "text": [
      "Test Accuracy: 0.0021645021645021645\n"
     ]
    }
   ],
   "source": [
    "# 将原始向量重新组织成一个三维张量\n",
    "# 1. 将原始向量分割成多个子向量，每个子向量包含 13 个元素\n",
    "X_test = np.split(X_test, 779, axis=1)\n",
    "# 2. 将这些子向量按照一定的规律排列成一个大小为 2772x779x13 的张量\n",
    "X_test = np.stack(X_test, axis=1)\n",
    "X_test = torch.from_numpy(X_test)\n",
    "y_test = torch.tensor(y_test)\n",
    "all_predictions = []\n",
    "model.eval()\n",
    "with torch.no_grad():\n",
    "    outputs = model(X_test)\n",
    "    # 获取预测标签\n",
    "    _, predictions = torch.max(outputs, 1)\n",
    "    # 将预测标签和真实标签添加到列表中\n",
    "    all_predictions.extend(predictions.numpy())\n",
    "\n",
    "# 计算准确率\n",
    "accuracy = accuracy_score(y_test, all_predictions)\n",
    "print(\"Test Accuracy:\", accuracy)"
   ]
  },
  {
   "cell_type": "code",
   "execution_count": 52,
   "metadata": {},
   "outputs": [],
   "source": [
    "class VoiceNet(nn.Module):\n",
    "    def __init__(self, num_classes=2):\n",
    "        super(VoiceNet, self).__init__()\n",
    "        \n",
    "        self.conv1 = nn.Conv2d(in_channels=1, out_channels=60, kernel_size=7, stride=2, padding=1)\n",
    "        self.conv2 = nn.Conv2d(in_channels=60, out_channels=60, kernel_size=5, stride=2, padding=1)\n",
    "        \n",
    "        self.bn1 = nn.BatchNorm2d(num_features=60)\n",
    "        self.bn2 = nn.BatchNorm2d(num_features=60)\n",
    "        self.bn3 = nn.BatchNorm2d(num_features=512)\n",
    "        self.bn5 = nn.BatchNorm1d(num_features=512)\n",
    "        \n",
    "        self.relu = nn.ReLU()\n",
    "        self.softmax = nn.Softmax()\n",
    "        \n",
    "        self.mpool1 = nn.MaxPool2d(kernel_size=3, stride=2)\n",
    "        \n",
    "        # Conv2d with weights of size (H, 1) is identical to FC with H weights\n",
    "        self.conv3 = nn.Conv2d(in_channels=60, out_channels=512, kernel_size=(31, 1))\n",
    "        self.fc5 = nn.Linear(in_features=512, out_features=512)\n",
    "        self.fc6 = nn.Linear(in_features=512, out_features=num_classes)\n",
    "        \n",
    "    def forward(self, x):\n",
    "        B, C, H, W = x.size()\n",
    "        x = self.relu(self.bn1(self.conv1(x)))\n",
    "        x = self.mpool1(x)\n",
    "        x = self.relu(self.bn2(self.conv2(x)))\n",
    "        x = self.relu(self.bn3(self.conv3(x)))\n",
    "        \n",
    "        _, _, _, W = x.size()\n",
    "        self.apool4 = nn.AvgPool2d(kernel_size=(1, W)) # average pooling over time\n",
    "        x = self.apool4(x)\n",
    "        \n",
    "        x = x.flatten(start_dim=1)\n",
    "        x = self.relu(self.bn5(self.fc5(x)))\n",
    "        x = self.fc6(x)\n",
    "        \n",
    "        # during training, there's no need for SoftMax because CELoss calculates it\n",
    "        if self.training:\n",
    "            return x\n",
    "        else:\n",
    "            return self.softmax(x)"
   ]
  },
  {
   "cell_type": "code",
   "execution_count": 50,
   "metadata": {},
   "outputs": [
    {
     "ename": "ValueError",
     "evalue": "not enough values to unpack (expected 4, got 2)",
     "output_type": "error",
     "traceback": [
      "\u001b[1;31m---------------------------------------------------------------------------\u001b[0m",
      "\u001b[1;31mValueError\u001b[0m                                Traceback (most recent call last)",
      "\u001b[1;32m<ipython-input-50-28d2b85d4582>\u001b[0m in \u001b[0;36m<module>\u001b[1;34m\u001b[0m\n\u001b[0;32m     11\u001b[0m \u001b[0minput_data\u001b[0m \u001b[1;33m=\u001b[0m \u001b[0mtorch\u001b[0m\u001b[1;33m.\u001b[0m\u001b[0mfrom_numpy\u001b[0m\u001b[1;33m(\u001b[0m\u001b[0minput_data\u001b[0m\u001b[1;33m)\u001b[0m\u001b[1;33m\u001b[0m\u001b[1;33m\u001b[0m\u001b[0m\n\u001b[0;32m     12\u001b[0m \u001b[0mlabels\u001b[0m \u001b[1;33m=\u001b[0m \u001b[0mtorch\u001b[0m\u001b[1;33m.\u001b[0m\u001b[0mtensor\u001b[0m\u001b[1;33m(\u001b[0m\u001b[0mlabels\u001b[0m\u001b[1;33m)\u001b[0m\u001b[1;33m\u001b[0m\u001b[1;33m\u001b[0m\u001b[0m\n\u001b[1;32m---> 13\u001b[1;33m \u001b[0moutputs\u001b[0m \u001b[1;33m=\u001b[0m \u001b[0mmodel\u001b[0m\u001b[1;33m(\u001b[0m\u001b[0minput_data\u001b[0m\u001b[1;33m)\u001b[0m\u001b[1;33m\u001b[0m\u001b[1;33m\u001b[0m\u001b[0m\n\u001b[0m\u001b[0;32m     14\u001b[0m \u001b[1;33m\u001b[0m\u001b[0m\n\u001b[0;32m     15\u001b[0m \u001b[1;31m# 计算损失\u001b[0m\u001b[1;33m\u001b[0m\u001b[1;33m\u001b[0m\u001b[1;33m\u001b[0m\u001b[0m\n",
      "\u001b[1;32m~\\Anaconda3\\envs\\gluon\\lib\\site-packages\\torch\\nn\\modules\\module.py\u001b[0m in \u001b[0;36m_call_impl\u001b[1;34m(self, *input, **kwargs)\u001b[0m\n\u001b[0;32m   1100\u001b[0m         if not (self._backward_hooks or self._forward_hooks or self._forward_pre_hooks or _global_backward_hooks\n\u001b[0;32m   1101\u001b[0m                 or _global_forward_hooks or _global_forward_pre_hooks):\n\u001b[1;32m-> 1102\u001b[1;33m             \u001b[1;32mreturn\u001b[0m \u001b[0mforward_call\u001b[0m\u001b[1;33m(\u001b[0m\u001b[1;33m*\u001b[0m\u001b[0minput\u001b[0m\u001b[1;33m,\u001b[0m \u001b[1;33m**\u001b[0m\u001b[0mkwargs\u001b[0m\u001b[1;33m)\u001b[0m\u001b[1;33m\u001b[0m\u001b[1;33m\u001b[0m\u001b[0m\n\u001b[0m\u001b[0;32m   1103\u001b[0m         \u001b[1;31m# Do not call functions when jit is used\u001b[0m\u001b[1;33m\u001b[0m\u001b[1;33m\u001b[0m\u001b[1;33m\u001b[0m\u001b[0m\n\u001b[0;32m   1104\u001b[0m         \u001b[0mfull_backward_hooks\u001b[0m\u001b[1;33m,\u001b[0m \u001b[0mnon_full_backward_hooks\u001b[0m \u001b[1;33m=\u001b[0m \u001b[1;33m[\u001b[0m\u001b[1;33m]\u001b[0m\u001b[1;33m,\u001b[0m \u001b[1;33m[\u001b[0m\u001b[1;33m]\u001b[0m\u001b[1;33m\u001b[0m\u001b[1;33m\u001b[0m\u001b[0m\n",
      "\u001b[1;32m<ipython-input-49-b22a7b92a3b5>\u001b[0m in \u001b[0;36mforward\u001b[1;34m(self, x)\u001b[0m\n\u001b[0;32m     22\u001b[0m \u001b[1;33m\u001b[0m\u001b[0m\n\u001b[0;32m     23\u001b[0m     \u001b[1;32mdef\u001b[0m \u001b[0mforward\u001b[0m\u001b[1;33m(\u001b[0m\u001b[0mself\u001b[0m\u001b[1;33m,\u001b[0m \u001b[0mx\u001b[0m\u001b[1;33m)\u001b[0m\u001b[1;33m:\u001b[0m\u001b[1;33m\u001b[0m\u001b[1;33m\u001b[0m\u001b[0m\n\u001b[1;32m---> 24\u001b[1;33m         \u001b[0mB\u001b[0m\u001b[1;33m,\u001b[0m \u001b[0mC\u001b[0m\u001b[1;33m,\u001b[0m \u001b[0mH\u001b[0m\u001b[1;33m,\u001b[0m \u001b[0mW\u001b[0m \u001b[1;33m=\u001b[0m \u001b[0mx\u001b[0m\u001b[1;33m.\u001b[0m\u001b[0msize\u001b[0m\u001b[1;33m(\u001b[0m\u001b[1;33m)\u001b[0m\u001b[1;33m\u001b[0m\u001b[1;33m\u001b[0m\u001b[0m\n\u001b[0m\u001b[0;32m     25\u001b[0m         \u001b[0mx\u001b[0m \u001b[1;33m=\u001b[0m \u001b[0mself\u001b[0m\u001b[1;33m.\u001b[0m\u001b[0mrelu\u001b[0m\u001b[1;33m(\u001b[0m\u001b[0mself\u001b[0m\u001b[1;33m.\u001b[0m\u001b[0mbn1\u001b[0m\u001b[1;33m(\u001b[0m\u001b[0mself\u001b[0m\u001b[1;33m.\u001b[0m\u001b[0mconv1\u001b[0m\u001b[1;33m(\u001b[0m\u001b[0mx\u001b[0m\u001b[1;33m)\u001b[0m\u001b[1;33m)\u001b[0m\u001b[1;33m)\u001b[0m\u001b[1;33m\u001b[0m\u001b[1;33m\u001b[0m\u001b[0m\n\u001b[0;32m     26\u001b[0m         \u001b[0mx\u001b[0m \u001b[1;33m=\u001b[0m \u001b[0mself\u001b[0m\u001b[1;33m.\u001b[0m\u001b[0mmpool1\u001b[0m\u001b[1;33m(\u001b[0m\u001b[0mx\u001b[0m\u001b[1;33m)\u001b[0m\u001b[1;33m\u001b[0m\u001b[1;33m\u001b[0m\u001b[0m\n",
      "\u001b[1;31mValueError\u001b[0m: not enough values to unpack (expected 4, got 2)"
     ]
    }
   ],
   "source": [
    "model = VoiceNet(462)\n",
    "\n",
    "# 定义交叉熵损失函数\n",
    "criterion = nn.CrossEntropyLoss()\n",
    "\n",
    "# 示例输入\n",
    "batch_size = 22  \n",
    "input_data = X_train\n",
    "labels = y_train\n",
    "# 前向传播\n",
    "input_data = torch.from_numpy(input_data)\n",
    "labels = torch.tensor(labels)\n",
    "outputs = model(input_data)\n",
    "\n",
    "# 计算损失\n",
    "loss = criterion(outputs, labels)\n",
    "\n",
    "# 反向传播\n",
    "loss.backward()\n",
    "\n",
    "# 更新参数\n",
    "optimizer.step()\n"
   ]
  },
  {
   "cell_type": "code",
   "execution_count": null,
   "metadata": {},
   "outputs": [],
   "source": [
    "https://blog.csdn.net/qq_39373179/article/details/103788208"
   ]
  }
 ],
 "metadata": {
  "kernelspec": {
   "display_name": "Python 3",
   "language": "python",
   "name": "python3"
  },
  "language_info": {
   "codemirror_mode": {
    "name": "ipython",
    "version": 3
   },
   "file_extension": ".py",
   "mimetype": "text/x-python",
   "name": "python",
   "nbconvert_exporter": "python",
   "pygments_lexer": "ipython3",
   "version": "3.6.13"
  }
 },
 "nbformat": 4,
 "nbformat_minor": 2
}
